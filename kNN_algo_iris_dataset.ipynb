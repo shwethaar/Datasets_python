{
  "nbformat": 4,
  "nbformat_minor": 0,
  "metadata": {
    "colab": {
      "name": "kNN_algo_iris_dataset.ipynb",
      "provenance": [],
      "authorship_tag": "ABX9TyNHFghuzo7QDb1ASbF4GlZS",
      "include_colab_link": true
    },
    "kernelspec": {
      "name": "python3",
      "display_name": "Python 3"
    }
  },
  "cells": [
    {
      "cell_type": "markdown",
      "metadata": {
        "id": "view-in-github",
        "colab_type": "text"
      },
      "source": [
        "<a href=\"https://colab.research.google.com/github/shwethaar/Datasets_python/blob/master/kNN_algo_iris_dataset.ipynb\" target=\"_parent\"><img src=\"https://colab.research.google.com/assets/colab-badge.svg\" alt=\"Open In Colab\"/></a>"
      ]
    },
    {
      "cell_type": "markdown",
      "metadata": {
        "id": "dlULljG46G8u",
        "colab_type": "text"
      },
      "source": [
        "### **KNN**"
      ]
    },
    {
      "cell_type": "code",
      "metadata": {
        "id": "YsYMbO5J6FT6",
        "colab_type": "code",
        "colab": {
          "base_uri": "https://localhost:8080/",
          "height": 70
        },
        "outputId": "99936bcb-23dd-41f9-dbd4-b8e4f55c9d00"
      },
      "source": [
        "import numpy as np\n",
        "import pandas as pd\n",
        "#simple graph , bar chart, line ,scattered plot, pie,histogram\n",
        "import matplotlib.pyplot as plt\n",
        "#complex graph and data distribution,violin,pairplt,heatmap etc\n",
        "import seaborn as sns"
      ],
      "execution_count": 1,
      "outputs": [
        {
          "output_type": "stream",
          "text": [
            "/usr/local/lib/python3.6/dist-packages/statsmodels/tools/_testing.py:19: FutureWarning: pandas.util.testing is deprecated. Use the functions in the public API at pandas.testing instead.\n",
            "  import pandas.util.testing as tm\n"
          ],
          "name": "stderr"
        }
      ]
    },
    {
      "cell_type": "code",
      "metadata": {
        "id": "pO9IQzYH6e9j",
        "colab_type": "code",
        "colab": {}
      },
      "source": [
        "iris_data= pd.read_csv('https://raw.githubusercontent.com/kusumikakd/Datasets/master/Datasets/iris.csv')\n",
        "iris_data.describe()"
      ],
      "execution_count": null,
      "outputs": []
    },
    {
      "cell_type": "markdown",
      "metadata": {
        "id": "uUYRhgO474zI",
        "colab_type": "text"
      },
      "source": [
        "PLotting using scatter **plot** bold text"
      ]
    },
    {
      "cell_type": "code",
      "metadata": {
        "id": "ze7aay5O69Zx",
        "colab_type": "code",
        "colab": {}
      },
      "source": [
        "plt.figure(figsize=(10,10))\n",
        "sns.set_style('darkgrid')\n",
        "plt.scatter(x=iris_data['sepal_length'],y=iris_data['sepal_width'],label='sepal_width',marker='x',c='red',s=49)\n",
        "plt.scatter(x=iris_data['sepal_length'],y=iris_data['petal_width'],label='petal_width',marker='^',c='green')\n",
        "plt.scatter(x=iris_data['sepal_length'],y=iris_data['petal_length'],label='petal_length',marker='o',c='blue')\n",
        "plt.xlabel(\"sepal length\")\n",
        "plt.legend(loc=3)"
      ],
      "execution_count": null,
      "outputs": []
    },
    {
      "cell_type": "code",
      "metadata": {
        "id": "w6P49i6c829Y",
        "colab_type": "code",
        "colab": {}
      },
      "source": [
        "s1=iris_data.iloc[ 1:50,:]\n",
        "s2=iris_data.iloc[ 51:100, :]\n",
        "s3=iris_data.iloc[101:150, :]"
      ],
      "execution_count": 9,
      "outputs": []
    },
    {
      "cell_type": "code",
      "metadata": {
        "id": "t8MB8o2K_MMo",
        "colab_type": "code",
        "colab": {
          "base_uri": "https://localhost:8080/",
          "height": 623
        },
        "outputId": "5adc8bf9-15b2-4914-8820-81490bb907d2"
      },
      "source": [
        "plt.figure(figsize=(10,10))\n",
        "sns.set_style('darkgrid')\n",
        "plt.scatter(x=s1.iloc[:,0],y=s1.iloc[:,1],label='type1', marker='x',c='red',s=49)\n",
        "plt.scatter(x=s2.iloc[:,0],y=s2.iloc[:,1],label='type1', marker='^',c='green',s=49)\n",
        "plt.scatter(x=s3.iloc[:,0],y=s3.iloc[:,1],label='type1', marker='o',c='blue',s=49)\n",
        "plt.xlabel(\"Sepal length\")\n",
        "plt.legend(loc=3)"
      ],
      "execution_count": 10,
      "outputs": [
        {
          "output_type": "execute_result",
          "data": {
            "text/plain": [
              "<matplotlib.legend.Legend at 0x7fdc2aad7da0>"
            ]
          },
          "metadata": {
            "tags": []
          },
          "execution_count": 10
        },
        {
          "output_type": "display_data",
          "data": {
            "image/png": "[encoded data removed]",
            "text/plain": [
              "<Figure size 720x720 with 1 Axes>"
            ]
          },
          "metadata": {
            "tags": []
          }
        }
      ]
    },
    {
      "cell_type": "code",
      "metadata": {
        "id": "uvXnZWd6_1C-",
        "colab_type": "code",
        "colab": {}
      },
      "source": [
        ""
      ],
      "execution_count": null,
      "outputs": []
    }
  ]
}